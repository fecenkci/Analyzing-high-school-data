{
 "cells": [
  {
   "cell_type": "markdown",
   "metadata": {},
   "source": [
    "## Analyzing New York City High School Data (Test Project)\n",
    "\n",
    "The SAT, or Scholastic Aptitude Test, is an exam that U.S. high school students take before applying to college. Colleges take the test scores into account when deciding who to admit, so it's fairly important to perform well on it.\n",
    "\n",
    "The test consists of three sections, each of which has 800 possible points. The combined score is out of 2,400 possible points (while this number has changed a few times, the data set for our project is based on 2,400 total points). Organizations often rank high schools by their average SAT scores. The scores are also considered a measure of overall school district quality.\n",
    "\n",
    "One of the most controversial issues in the U.S. educational system is the efficacy of standardized tests, and whether they're unfair to certain groups. **My aim in this project is to investigate the correlations between SAT scores and demographics and try to find out if SAT scores correlate with factors like race, gender, income, and more.**\n",
    "\n",
    "New York City makes its data on high school SAT scores available online, as well as the demographics for each high school. The same website has several related data sets covering demographic information and test scores. Here are the links to all of the data sets I'll be using:\n",
    "\n",
    "- [SAT scores by school](https://data.cityofnewyork.us/Education/2012-SAT-Results/f9bf-2cp4) - SAT scores for each high school in New York City\n",
    "- [School attendance](https://data.cityofnewyork.us/Education/2010-2011-School-Attendance-and-Enrollment-Statist/7z8d-msnt) - Attendance information for each school in New York City\n",
    "- [Class size](https://data.cityofnewyork.us/Education/2010-2011-Class-Size-School-level-detail/urz7-pzb3) - Information on class size for each school\n",
    "- [AP test results](https://data.cityofnewyork.us/Education/2010-AP-College-Board-School-Level-Results/itfs-ms3e) - Advanced Placement (AP) exam results for each high school (passing an optional AP exam in a particular subject can earn a student college credit in that subject)\n",
    "- [Graduation outcomes](https://data.cityofnewyork.us/Education/2005-2010-Graduation-Outcomes-School-Level/vh2h-md7a) - The percentage of students who graduated, and other outcome information\n",
    "- [Demographics](https://data.cityofnewyork.us/Education/2006-2012-School-Demographics-and-Accountability-S/ihfw-zy9j) - Demographic information for each school\n",
    "- [School survey](https://app.dataquest.io/m/136/data-cleaning-walkthrough/2/finding-all-of-the-relevant-data-sets) - Surveys of parents, teachers, and students at each school\n"
   ]
  },
  {
   "cell_type": "markdown",
   "metadata": {},
   "source": [
    "**Let's start by reading these into pandas:**"
   ]
  },
  {
   "cell_type": "code",
   "execution_count": 1,
   "metadata": {},
   "outputs": [],
   "source": [
    "import pandas as pd\n",
    "import numpy\n",
    "import re\n",
    "\n",
    "data_files = [\n",
    "    \"ap_2010.csv\",\n",
    "    \"class_size.csv\",\n",
    "    \"demographics.csv\",\n",
    "    \"graduation.csv\",\n",
    "    \"hs_directory.csv\",\n",
    "    \"sat_results.csv\"\n",
    "]\n",
    "\n",
    "data = {}\n",
    "\n",
    "for f in data_files:\n",
    "    d = pd.read_csv(\"schools/{0}\".format(f))\n",
    "    data[f.replace(\".csv\", \"\")] = d"
   ]
  },
  {
   "cell_type": "markdown",
   "metadata": {},
   "source": [
    "**Read and merge surveys:**"
   ]
  },
  {
   "cell_type": "code",
   "execution_count": 2,
   "metadata": {},
   "outputs": [],
   "source": [
    "all_survey = pd.read_csv(\"schools/survey_all.txt\", delimiter=\"\\t\", encoding='windows-1252')\n",
    "d75_survey = pd.read_csv(\"schools/survey_d75.txt\", delimiter=\"\\t\", encoding='windows-1252')\n",
    "survey = pd.concat([all_survey, d75_survey], axis=0)"
   ]
  },
  {
   "cell_type": "markdown",
   "metadata": {},
   "source": [
    "**Lets take a look at the files in data dictionary:**"
   ]
  },
  {
   "cell_type": "code",
   "execution_count": 3,
   "metadata": {},
   "outputs": [
    {
     "name": "stdout",
     "output_type": "stream",
     "text": [
      "      DBN                             SchoolName AP Test Takers   \\\n",
      "0  01M448           UNIVERSITY NEIGHBORHOOD H.S.              39   \n",
      "1  01M450                 EAST SIDE COMMUNITY HS              19   \n",
      "2  01M515                    LOWER EASTSIDE PREP              24   \n",
      "3  01M539         NEW EXPLORATIONS SCI,TECH,MATH             255   \n",
      "4  02M296  High School of Hospitality Management               s   \n",
      "\n",
      "  Total Exams Taken Number of Exams with scores 3 4 or 5  \n",
      "0                49                                   10  \n",
      "1                21                                    s  \n",
      "2                26                                   24  \n",
      "3               377                                  191  \n",
      "4                 s                                    s  \n",
      "   CSD BOROUGH SCHOOL CODE                SCHOOL NAME GRADE  PROGRAM TYPE  \\\n",
      "0    1       M        M015  P.S. 015 Roberto Clemente     0K       GEN ED   \n",
      "1    1       M        M015  P.S. 015 Roberto Clemente     0K          CTT   \n",
      "2    1       M        M015  P.S. 015 Roberto Clemente     01       GEN ED   \n",
      "3    1       M        M015  P.S. 015 Roberto Clemente     01          CTT   \n",
      "4    1       M        M015  P.S. 015 Roberto Clemente     02       GEN ED   \n",
      "\n",
      "  CORE SUBJECT (MS CORE and 9-12 ONLY) CORE COURSE (MS CORE and 9-12 ONLY)  \\\n",
      "0                                    -                                   -   \n",
      "1                                    -                                   -   \n",
      "2                                    -                                   -   \n",
      "3                                    -                                   -   \n",
      "4                                    -                                   -   \n",
      "\n",
      "  SERVICE CATEGORY(K-9* ONLY)  NUMBER OF STUDENTS / SEATS FILLED  \\\n",
      "0                           -                               19.0   \n",
      "1                           -                               21.0   \n",
      "2                           -                               17.0   \n",
      "3                           -                               17.0   \n",
      "4                           -                               15.0   \n",
      "\n",
      "   NUMBER OF SECTIONS  AVERAGE CLASS SIZE  SIZE OF SMALLEST CLASS  \\\n",
      "0                 1.0                19.0                    19.0   \n",
      "1                 1.0                21.0                    21.0   \n",
      "2                 1.0                17.0                    17.0   \n",
      "3                 1.0                17.0                    17.0   \n",
      "4                 1.0                15.0                    15.0   \n",
      "\n",
      "   SIZE OF LARGEST CLASS DATA SOURCE  SCHOOLWIDE PUPIL-TEACHER RATIO  \n",
      "0                   19.0         ATS                             NaN  \n",
      "1                   21.0         ATS                             NaN  \n",
      "2                   17.0         ATS                             NaN  \n",
      "3                   17.0         ATS                             NaN  \n",
      "4                   15.0         ATS                             NaN  \n",
      "      DBN                       Name  schoolyear fl_percent  frl_percent  \\\n",
      "0  01M015  P.S. 015 ROBERTO CLEMENTE    20052006       89.4          NaN   \n",
      "1  01M015  P.S. 015 ROBERTO CLEMENTE    20062007       89.4          NaN   \n",
      "2  01M015  P.S. 015 ROBERTO CLEMENTE    20072008       89.4          NaN   \n",
      "3  01M015  P.S. 015 ROBERTO CLEMENTE    20082009       89.4          NaN   \n",
      "4  01M015  P.S. 015 ROBERTO CLEMENTE    20092010                    96.5   \n",
      "\n",
      "   total_enrollment prek   k grade1 grade2  ... black_num black_per  \\\n",
      "0               281   15  36     40     33  ...        74      26.3   \n",
      "1               243   15  29     39     38  ...        68      28.0   \n",
      "2               261   18  43     39     36  ...        77      29.5   \n",
      "3               252   17  37     44     32  ...        75      29.8   \n",
      "4               208   16  40     28     32  ...        67      32.2   \n",
      "\n",
      "  hispanic_num hispanic_per white_num white_per male_num male_per female_num  \\\n",
      "0          189         67.3         5       1.8    158.0     56.2      123.0   \n",
      "1          153         63.0         4       1.6    140.0     57.6      103.0   \n",
      "2          157         60.2         7       2.7    143.0     54.8      118.0   \n",
      "3          149         59.1         7       2.8    149.0     59.1      103.0   \n",
      "4          118         56.7         6       2.9    124.0     59.6       84.0   \n",
      "\n",
      "  female_per  \n",
      "0       43.8  \n",
      "1       42.4  \n",
      "2       45.2  \n",
      "3       40.9  \n",
      "4       40.4  \n",
      "\n",
      "[5 rows x 38 columns]\n",
      "    Demographic     DBN                            School Name    Cohort  \\\n",
      "0  Total Cohort  01M292  HENRY STREET SCHOOL FOR INTERNATIONAL      2003   \n",
      "1  Total Cohort  01M292  HENRY STREET SCHOOL FOR INTERNATIONAL      2004   \n",
      "2  Total Cohort  01M292  HENRY STREET SCHOOL FOR INTERNATIONAL      2005   \n",
      "3  Total Cohort  01M292  HENRY STREET SCHOOL FOR INTERNATIONAL      2006   \n",
      "4  Total Cohort  01M292  HENRY STREET SCHOOL FOR INTERNATIONAL  2006 Aug   \n",
      "\n",
      "   Total Cohort Total Grads - n Total Grads - % of cohort Total Regents - n  \\\n",
      "0             5               s                         s                 s   \n",
      "1            55              37                     67.3%                17   \n",
      "2            64              43                     67.2%                27   \n",
      "3            78              43                     55.1%                36   \n",
      "4            78              44                     56.4%                37   \n",
      "\n",
      "  Total Regents - % of cohort Total Regents - % of grads  ...  \\\n",
      "0                           s                          s  ...   \n",
      "1                       30.9%                      45.9%  ...   \n",
      "2                       42.2%                      62.8%  ...   \n",
      "3                       46.2%                      83.7%  ...   \n",
      "4                       47.4%                      84.1%  ...   \n",
      "\n",
      "  Regents w/o Advanced - n Regents w/o Advanced - % of cohort  \\\n",
      "0                        s                                  s   \n",
      "1                       17                              30.9%   \n",
      "2                       27                              42.2%   \n",
      "3                       36                              46.2%   \n",
      "4                       37                              47.4%   \n",
      "\n",
      "  Regents w/o Advanced - % of grads Local - n Local - % of cohort  \\\n",
      "0                                 s         s                   s   \n",
      "1                             45.9%        20               36.4%   \n",
      "2                             62.8%        16                 25%   \n",
      "3                             83.7%         7                  9%   \n",
      "4                             84.1%         7                  9%   \n",
      "\n",
      "    Local - % of grads Still Enrolled - n Still Enrolled - % of cohort  \\\n",
      "0                    s                  s                            s   \n",
      "1                54.1%                 15                        27.3%   \n",
      "2  37.200000000000003%                  9                        14.1%   \n",
      "3                16.3%                 16                        20.5%   \n",
      "4                15.9%                 15                        19.2%   \n",
      "\n",
      "  Dropped Out - n Dropped Out - % of cohort  \n",
      "0               s                         s  \n",
      "1               3                      5.5%  \n",
      "2               9                     14.1%  \n",
      "3              11                     14.1%  \n",
      "4              11                     14.1%  \n",
      "\n",
      "[5 rows x 23 columns]\n",
      "      dbn                                        school_name       boro  \\\n",
      "0  17K548                Brooklyn School for Music & Theatre   Brooklyn   \n",
      "1  09X543                   High School for Violin and Dance      Bronx   \n",
      "2  09X327        Comprehensive Model School Project M.S. 327      Bronx   \n",
      "3  02M280     Manhattan Early College School for Advertising  Manhattan   \n",
      "4  28Q680  Queens Gateway to Health Sciences Secondary Sc...     Queens   \n",
      "\n",
      "  building_code    phone_number    fax_number grade_span_min  grade_span_max  \\\n",
      "0          K440    718-230-6250  718-230-6262              9              12   \n",
      "1          X400    718-842-0687  718-589-9849              9              12   \n",
      "2          X240    718-294-8111  718-294-8109              6              12   \n",
      "3          M520  718-935-3477             NaN              9              10   \n",
      "4          Q695    718-969-3155  718-969-3552              6              12   \n",
      "\n",
      "  expgrade_span_min  expgrade_span_max  ...  \\\n",
      "0               NaN                NaN  ...   \n",
      "1               NaN                NaN  ...   \n",
      "2               NaN                NaN  ...   \n",
      "3                 9               14.0  ...   \n",
      "4               NaN                NaN  ...   \n",
      "\n",
      "                                          priority02  \\\n",
      "0                    Then to New York City residents   \n",
      "1  Then to New York City residents who attend an ...   \n",
      "2  Then to Bronx students or residents who attend...   \n",
      "3  Then to New York City residents who attend an ...   \n",
      "4  Then to Districts 28 and 29 students or residents   \n",
      "\n",
      "                                          priority03  \\\n",
      "0                                                NaN   \n",
      "1                Then to Bronx students or residents   \n",
      "2  Then to New York City residents who attend an ...   \n",
      "3          Then to Manhattan students or residents     \n",
      "4               Then to Queens students or residents   \n",
      "\n",
      "                            priority04                       priority05  \\\n",
      "0                                  NaN                              NaN   \n",
      "1      Then to New York City residents                              NaN   \n",
      "2  Then to Bronx students or residents  Then to New York City residents   \n",
      "3      Then to New York City residents                              NaN   \n",
      "4      Then to New York City residents                              NaN   \n",
      "\n",
      "  priority06  priority07 priority08  priority09 priority10  \\\n",
      "0        NaN         NaN        NaN         NaN        NaN   \n",
      "1        NaN         NaN        NaN         NaN        NaN   \n",
      "2        NaN         NaN        NaN         NaN        NaN   \n",
      "3        NaN         NaN        NaN         NaN        NaN   \n",
      "4        NaN         NaN        NaN         NaN        NaN   \n",
      "\n",
      "                                          Location 1  \n",
      "0  883 Classon Avenue\\nBrooklyn, NY 11225\\n(40.67...  \n",
      "1  1110 Boston Road\\nBronx, NY 10456\\n(40.8276026...  \n",
      "2  1501 Jerome Avenue\\nBronx, NY 10452\\n(40.84241...  \n",
      "3  411 Pearl Street\\nNew York, NY 10038\\n(40.7106...  \n",
      "4  160-20 Goethals Avenue\\nJamaica, NY 11432\\n(40...  \n",
      "\n",
      "[5 rows x 58 columns]\n",
      "      DBN                                    SCHOOL NAME  \\\n",
      "0  01M292  HENRY STREET SCHOOL FOR INTERNATIONAL STUDIES   \n",
      "1  01M448            UNIVERSITY NEIGHBORHOOD HIGH SCHOOL   \n",
      "2  01M450                     EAST SIDE COMMUNITY SCHOOL   \n",
      "3  01M458                      FORSYTH SATELLITE ACADEMY   \n",
      "4  01M509                        MARTA VALLE HIGH SCHOOL   \n",
      "\n",
      "  Num of SAT Test Takers SAT Critical Reading Avg. Score SAT Math Avg. Score  \\\n",
      "0                     29                             355                 404   \n",
      "1                     91                             383                 423   \n",
      "2                     70                             377                 402   \n",
      "3                      7                             414                 401   \n",
      "4                     44                             390                 433   \n",
      "\n",
      "  SAT Writing Avg. Score  \n",
      "0                    363  \n",
      "1                    366  \n",
      "2                    370  \n",
      "3                    359  \n",
      "4                    384  \n"
     ]
    }
   ],
   "source": [
    "for d in data:\n",
    "    print(data[d].head())"
   ]
  },
  {
   "cell_type": "markdown",
   "metadata": {},
   "source": [
    "**Some observations:**\n",
    "\n",
    "- Each data set appears to either have a DBN column, or the information we need to create one. That means I can use a DBN column to combine the data sets. First I'll pinpoint matching rows from different data sets by looking for identical DBNs, then group all of their columns together in a single data set.\n",
    "\n",
    "- Some fields look interesting for mapping -- particularly Location 1, which contains coordinates inside a larger string.\n",
    "\n",
    "- Some of the data sets appear to contain multiple rows for each school (because the rows have duplicate DBN values). That means I’ll have to do some preprocessing to ensure that each DBN is unique within each data set.\n",
    "\n",
    "**Lets check the survey data:**\n"
   ]
  },
  {
   "cell_type": "code",
   "execution_count": 4,
   "metadata": {},
   "outputs": [
    {
     "name": "stdout",
     "output_type": "stream",
     "text": [
      "      dbn    bn                      schoolname  d75 studentssurveyed  \\\n",
      "0  01M015  M015       P.S. 015 Roberto Clemente    0               No   \n",
      "1  01M019  M019             P.S. 019 Asher Levy    0               No   \n",
      "2  01M020  M020            P.S. 020 Anna Silver    0               No   \n",
      "3  01M034  M034  P.S. 034 Franklin D. Roosevelt    0              Yes   \n",
      "4  01M063  M063       P.S. 063 William McKinley    0               No   \n",
      "\n",
      "   highschool                  schooltype  rr_s  rr_t  rr_p  ...  s_q14_2  \\\n",
      "0         0.0           Elementary School   NaN    88    60  ...      NaN   \n",
      "1         0.0           Elementary School   NaN   100    60  ...      NaN   \n",
      "2         0.0           Elementary School   NaN    88    73  ...      NaN   \n",
      "3         0.0  Elementary / Middle School  89.0    73    50  ...      NaN   \n",
      "4         0.0           Elementary School   NaN   100    60  ...      NaN   \n",
      "\n",
      "   s_q14_3  s_q14_4  s_q14_5  s_q14_6  s_q14_7  s_q14_8  s_q14_9  s_q14_10  \\\n",
      "0      NaN      NaN      NaN      NaN      NaN      NaN      NaN       NaN   \n",
      "1      NaN      NaN      NaN      NaN      NaN      NaN      NaN       NaN   \n",
      "2      NaN      NaN      NaN      NaN      NaN      NaN      NaN       NaN   \n",
      "3      NaN      NaN      NaN      NaN      NaN      NaN      NaN       NaN   \n",
      "4      NaN      NaN      NaN      NaN      NaN      NaN      NaN       NaN   \n",
      "\n",
      "   s_q14_11  \n",
      "0       NaN  \n",
      "1       NaN  \n",
      "2       NaN  \n",
      "3       NaN  \n",
      "4       NaN  \n",
      "\n",
      "[5 rows x 2773 columns]\n"
     ]
    }
   ],
   "source": [
    "print(survey.head())"
   ]
  },
  {
   "cell_type": "markdown",
   "metadata": {},
   "source": [
    "There are over 2000 columns, nearly all of which I don't need. I'll have to filter the data to remove the unnecessary ones. There is a data dictionary at the [original data download location.](https://data.cityofnewyork.us/Education/2011-NYC-School-Survey/mnz3-dyi8)\n",
    "\n",
    "**Based on the dictionary, it looks like these are the relevant columns:**"
   ]
  },
  {
   "cell_type": "code",
   "execution_count": 5,
   "metadata": {},
   "outputs": [],
   "source": [
    "survey[\"DBN\"] = survey[\"dbn\"]\n",
    "\n",
    "survey_fields = [\n",
    "    \"DBN\", \n",
    "    \"rr_s\", \n",
    "    \"rr_t\", \n",
    "    \"rr_p\", \n",
    "    \"N_s\", \n",
    "    \"N_t\", \n",
    "    \"N_p\", \n",
    "    \"saf_p_11\", \n",
    "    \"com_p_11\", \n",
    "    \"eng_p_11\", \n",
    "    \"aca_p_11\", \n",
    "    \"saf_t_11\", \n",
    "    \"com_t_11\", \n",
    "    \"eng_t_11\", \n",
    "    \"aca_t_11\", \n",
    "    \"saf_s_11\", \n",
    "    \"com_s_11\", \n",
    "    \"eng_s_11\", \n",
    "    \"aca_s_11\", \n",
    "    \"saf_tot_11\", \n",
    "    \"com_tot_11\", \n",
    "    \"eng_tot_11\", \n",
    "    \"aca_tot_11\",\n",
    "]\n",
    "survey = survey.loc[:,survey_fields]\n",
    "data[\"survey\"] = survey"
   ]
  },
  {
   "cell_type": "markdown",
   "metadata": {},
   "source": [
    "Combination of the CSD and SCHOOL CODE columns in the class_size data gives me the DBN column in the sat_results data. The main difference is that the DBN is padded, so that the CSD portion of it always consists of two digits."
   ]
  },
  {
   "cell_type": "code",
   "execution_count": 6,
   "metadata": {},
   "outputs": [],
   "source": [
    "data[\"hs_directory\"][\"DBN\"] = data[\"hs_directory\"][\"dbn\"]\n",
    "\n",
    "def pad_csd(num):\n",
    "    string_representation = str(num)\n",
    "    if len(string_representation) > 1:\n",
    "        return string_representation\n",
    "    else:\n",
    "        return \"0\" + string_representation\n",
    "    \n",
    "data[\"class_size\"][\"padded_csd\"] = data[\"class_size\"][\"CSD\"].apply(pad_csd)\n",
    "data[\"class_size\"][\"DBN\"] = data[\"class_size\"][\"padded_csd\"] + data[\"class_size\"][\"SCHOOL CODE\"]"
   ]
  },
  {
   "cell_type": "markdown",
   "metadata": {},
   "source": [
    "**Convert columns to numeric:**"
   ]
  },
  {
   "cell_type": "code",
   "execution_count": 7,
   "metadata": {},
   "outputs": [],
   "source": [
    "cols = ['SAT Math Avg. Score', 'SAT Critical Reading Avg. Score', 'SAT Writing Avg. Score']\n",
    "for c in cols:\n",
    "    data[\"sat_results\"][c] = pd.to_numeric(data[\"sat_results\"][c], errors=\"coerce\")\n",
    "\n",
    "data['sat_results']['sat_score'] = data['sat_results'][cols[0]] + data['sat_results'][cols[1]] + data['sat_results'][cols[2]]\n",
    "\n",
    "def find_lat(loc):\n",
    "    coords = re.findall(\"\\(.+, .+\\)\", loc)\n",
    "    lat = coords[0].split(\",\")[0].replace(\"(\", \"\")\n",
    "    return lat\n",
    "\n",
    "def find_lon(loc):\n",
    "    coords = re.findall(\"\\(.+, .+\\)\", loc)\n",
    "    lon = coords[0].split(\",\")[1].replace(\")\", \"\").strip()\n",
    "    return lon\n",
    "\n",
    "data[\"hs_directory\"][\"lat\"] = data[\"hs_directory\"][\"Location 1\"].apply(find_lat)\n",
    "data[\"hs_directory\"][\"lon\"] = data[\"hs_directory\"][\"Location 1\"].apply(find_lon)\n",
    "\n",
    "data[\"hs_directory\"][\"lat\"] = pd.to_numeric(data[\"hs_directory\"][\"lat\"], errors=\"coerce\")\n",
    "data[\"hs_directory\"][\"lon\"] = pd.to_numeric(data[\"hs_directory\"][\"lon\"], errors=\"coerce\")"
   ]
  },
  {
   "cell_type": "markdown",
   "metadata": {},
   "source": [
    "In order to analyze effectively I need to condense the data so that I would only have one DBN value for each school. sat_results data have unique DBN for every school whereas other data have multiple DBN rows for each school due to various factors. In class_size we have grade and program type columns contributing to this factor. Since I am dealing with SAT scores, I only need info from grade 9-12 and General education type. In demographics data, the factor is school year and to resolve it I will only select the most recent year. The Demographic and Cohort columns are what prevent DBN from being unique in the graduation data. A Cohort appears to refer to the year the data represents, and the Demographic appears to refer to a specific demographic group. In this case, I want to pick data from the most recent Cohort available, which is 2006. I also want data from the full cohort, so I'll only pick rows where Demographic is Total Cohort.\n",
    "\n",
    "**Let's start condensing the data:**"
   ]
  },
  {
   "cell_type": "code",
   "execution_count": 8,
   "metadata": {},
   "outputs": [],
   "source": [
    "class_size = data[\"class_size\"]\n",
    "class_size = class_size[class_size[\"GRADE \"] == \"09-12\"]\n",
    "class_size = class_size[class_size[\"PROGRAM TYPE\"] == \"GEN ED\"]\n",
    "\n",
    "class_size = class_size.groupby(\"DBN\").agg(numpy.mean)\n",
    "class_size.reset_index(inplace=True)\n",
    "data[\"class_size\"] = class_size\n",
    "\n",
    "data[\"demographics\"] = data[\"demographics\"][data[\"demographics\"][\"schoolyear\"] == 20112012]\n",
    "\n",
    "data[\"graduation\"] = data[\"graduation\"][data[\"graduation\"][\"Cohort\"] == \"2006\"]\n",
    "data[\"graduation\"] = data[\"graduation\"][data[\"graduation\"][\"Demographic\"] == \"Total Cohort\"]"
   ]
  },
  {
   "cell_type": "markdown",
   "metadata": {},
   "source": [
    "I am almost ready to combine all of the data sets. The only remaining thing to do is convert the Advanced Placement (AP) test scores from strings to numeric values. High school students take the AP exams before applying to college. There are several AP exams, each corresponding to a school subject. High school students who earn high scores may receive college credit.\n",
    "\n",
    "AP exams have a 1 to 5 scale; 3 or higher is a passing score. Many high school students take AP exams -- particularly those who attend academically challenging institutions. AP exams are much more rare in schools that lack funding or academic rigor.\n",
    "\n",
    "It will be interesting to find out whether AP exam scores are correlated with SAT scores across high schools. To determine this, I'll need to convert the AP exam scores in the ap_2010 data set to numeric values first."
   ]
  },
  {
   "cell_type": "code",
   "execution_count": 9,
   "metadata": {},
   "outputs": [],
   "source": [
    "cols = ['AP Test Takers ', 'Total Exams Taken', 'Number of Exams with scores 3 4 or 5']\n",
    "\n",
    "for col in cols:\n",
    "    data[\"ap_2010\"][col] = pd.to_numeric(data[\"ap_2010\"][col], errors=\"coerce\")"
   ]
  },
  {
   "cell_type": "markdown",
   "metadata": {},
   "source": [
    "Both the ap_2010 and the graduation data sets have many missing DBN values, so I'll use a left join when we merge the sat_results data set with them. Because I am using a left join, the final dataframe will have all of the same DBN values as the original sat_results dataframe. I'll use inner join type for the rest of the data since they have fewer missing values and they are more important for the aim. I will also fill missing values with column means and if I am unable to do so I will fill them with zero's. "
   ]
  },
  {
   "cell_type": "code",
   "execution_count": 10,
   "metadata": {},
   "outputs": [],
   "source": [
    "combined = data[\"sat_results\"]\n",
    "\n",
    "combined = combined.merge(data[\"ap_2010\"], on=\"DBN\", how=\"left\")\n",
    "combined = combined.merge(data[\"graduation\"], on=\"DBN\", how=\"left\")\n",
    "\n",
    "to_merge = [\"class_size\", \"demographics\", \"survey\", \"hs_directory\"]\n",
    "\n",
    "for m in to_merge:\n",
    "    combined = combined.merge(data[m], on=\"DBN\", how=\"inner\")\n",
    "    \n",
    "combined = combined.fillna(combined.mean())\n",
    "combined = combined.fillna(0)"
   ]
  },
  {
   "cell_type": "code",
   "execution_count": 11,
   "metadata": {},
   "outputs": [
    {
     "name": "stdout",
     "output_type": "stream",
     "text": [
      "      DBN                                        SCHOOL NAME  \\\n",
      "0  01M292      HENRY STREET SCHOOL FOR INTERNATIONAL STUDIES   \n",
      "1  01M448                UNIVERSITY NEIGHBORHOOD HIGH SCHOOL   \n",
      "2  01M450                         EAST SIDE COMMUNITY SCHOOL   \n",
      "3  01M509                            MARTA VALLE HIGH SCHOOL   \n",
      "4  01M539  NEW EXPLORATIONS INTO SCIENCE, TECHNOLOGY AND ...   \n",
      "\n",
      "  Num of SAT Test Takers  SAT Critical Reading Avg. Score  \\\n",
      "0                     29                            355.0   \n",
      "1                     91                            383.0   \n",
      "2                     70                            377.0   \n",
      "3                     44                            390.0   \n",
      "4                    159                            522.0   \n",
      "\n",
      "   SAT Math Avg. Score  SAT Writing Avg. Score  sat_score  \\\n",
      "0                404.0                   363.0     1122.0   \n",
      "1                423.0                   366.0     1172.0   \n",
      "2                402.0                   370.0     1149.0   \n",
      "3                433.0                   384.0     1207.0   \n",
      "4                574.0                   525.0     1621.0   \n",
      "\n",
      "                       SchoolName  AP Test Takers   Total Exams Taken  \\\n",
      "0                               0       129.028846         197.038462   \n",
      "1    UNIVERSITY NEIGHBORHOOD H.S.        39.000000          49.000000   \n",
      "2          EAST SIDE COMMUNITY HS        19.000000          21.000000   \n",
      "3                               0       129.028846         197.038462   \n",
      "4  NEW EXPLORATIONS SCI,TECH,MATH       255.000000         377.000000   \n",
      "\n",
      "   Number of Exams with scores 3 4 or 5   Demographic  \\\n",
      "0                                153.45  Total Cohort   \n",
      "1                                 10.00  Total Cohort   \n",
      "2                                153.45  Total Cohort   \n",
      "3                                153.45  Total Cohort   \n",
      "4                                191.00  Total Cohort   \n",
      "\n",
      "                             School Name Cohort  Total Cohort Total Grads - n  \\\n",
      "0  HENRY STREET SCHOOL FOR INTERNATIONAL   2006          78.0              43   \n",
      "1    UNIVERSITY NEIGHBORHOOD HIGH SCHOOL   2006         124.0              53   \n",
      "2             EAST SIDE COMMUNITY SCHOOL   2006          90.0              70   \n",
      "3                MARTA VALLE HIGH SCHOOL   2006          84.0              47   \n",
      "4  NEW EXPLORATIONS INTO SCIENCE  TECHNO   2006          46.0              46   \n",
      "\n",
      "  Total Grads - % of cohort Total Regents - n Total Regents - % of cohort  \\\n",
      "0                     55.1%                36                       46.2%   \n",
      "1                     42.7%                42                       33.9%   \n",
      "2                     77.8%                67         74.400000000000006%   \n",
      "3                       56%                40                       47.6%   \n",
      "4                      100%                46                        100%   \n",
      "\n",
      "  Total Regents - % of grads Advanced Regents - n  \\\n",
      "0                      83.7%                    0   \n",
      "1                      79.2%                    8   \n",
      "2                      95.7%                    0   \n",
      "3                      85.1%                   17   \n",
      "4                       100%                   31   \n",
      "\n",
      "  Advanced Regents - % of cohort Advanced Regents - % of grads  \\\n",
      "0                             0%                            0%   \n",
      "1                           6.5%                         15.1%   \n",
      "2                             0%                            0%   \n",
      "3                          20.2%           36.200000000000003%   \n",
      "4            67.400000000000006%           67.400000000000006%   \n",
      "\n",
      "  Regents w/o Advanced - n Regents w/o Advanced - % of cohort  \\\n",
      "0                       36                              46.2%   \n",
      "1                       34                              27.4%   \n",
      "2                       67                74.400000000000006%   \n",
      "3                       23                              27.4%   \n",
      "4                       15                              32.6%   \n",
      "\n",
      "  Regents w/o Advanced - % of grads Local - n Local - % of cohort  \\\n",
      "0                             83.7%         7                  9%   \n",
      "1                             64.2%        11                8.9%   \n",
      "2                             95.7%         3                3.3%   \n",
      "3                             48.9%         7  8.300000000000001%   \n",
      "4                             32.6%         0                  0%   \n",
      "\n",
      "  Local - % of grads Still Enrolled - n Still Enrolled - % of cohort  \\\n",
      "0              16.3%                 16                        20.5%   \n",
      "1              20.8%                 46                        37.1%   \n",
      "2               4.3%                 15                        16.7%   \n",
      "3              14.9%                 25                        29.8%   \n",
      "4                 0%                  0                           0%   \n",
      "\n",
      "  Dropped Out - n Dropped Out - % of cohort  CSD  \\\n",
      "0              11                     14.1%    1   \n",
      "1              20       16.100000000000001%    1   \n",
      "2               5                      5.6%    1   \n",
      "3               5                        6%    1   \n",
      "4               0                        0%    1   \n",
      "\n",
      "   NUMBER OF STUDENTS / SEATS FILLED  NUMBER OF SECTIONS  AVERAGE CLASS SIZE  \\\n",
      "0                          88.000000            4.000000           22.564286   \n",
      "1                         105.687500            4.750000           22.231250   \n",
      "2                          57.600000            2.733333           21.200000   \n",
      "3                          69.642857            3.000000           23.571429   \n",
      "4                         156.368421            6.157895           25.510526   \n",
      "\n",
      "   SIZE OF SMALLEST CLASS  SIZE OF LARGEST CLASS  \\\n",
      "0               18.500000              26.571429   \n",
      "1               18.250000              27.062500   \n",
      "2               19.400000              22.866667   \n",
      "3               20.000000              27.357143   \n",
      "4               19.473684              31.210526   \n",
      "\n",
      "   SCHOOLWIDE PUPIL-TEACHER RATIO  \\\n",
      "0                             0.0   \n",
      "1                             0.0   \n",
      "2                             0.0   \n",
      "3                             0.0   \n",
      "4                             0.0   \n",
      "\n",
      "                                               Name  schoolyear  fl_percent  \\\n",
      "0  HENRY STREET SCHOOL FOR INTERNATIONAL STUDIES       20112012         0.0   \n",
      "1  UNIVERSITY NEIGHBORHOOD HIGH SCHOOL                 20112012         0.0   \n",
      "2  EAST SIDE COMMUNITY HIGH SCHOOL                     20112012         0.0   \n",
      "3  MARTA VALLE SECONDARY SCHOOL                        20112012         0.0   \n",
      "4  NEW EXPLORATIONS INTO SCIENCE TECH AND MATH         20112012         0.0   \n",
      "\n",
      "   frl_percent  total_enrollment  prek     k grade1 grade2 grade3 grade4  \\\n",
      "0         88.6               422                                           \n",
      "1         71.8               394                                           \n",
      "2         71.8               598                                           \n",
      "3         80.7               367                                           \n",
      "4         23.0              1613         100    107    139    110    114   \n",
      "\n",
      "  grade5 grade6 grade7 grade8 grade9 grade10 grade11 grade12  ell_num  \\\n",
      "0            32     33     50     98      79      80      50     94.0   \n",
      "1                                109      97      93      95     83.0   \n",
      "2            92     73     76    101      93      77      86     30.0   \n",
      "3                                143     100      51      73     41.0   \n",
      "4    107    149    126    117    117     123     147     157      4.0   \n",
      "\n",
      "   ell_percent  sped_num  sped_percent ctt_num selfcontained_num  asian_num  \\\n",
      "0         22.3     105.0          24.9      34                35         59   \n",
      "1         21.1      86.0          21.8      55                10        115   \n",
      "2          5.0     158.0          26.4      91                19         58   \n",
      "3         11.2      95.0          25.9      28                36         34   \n",
      "4          0.2      43.0           2.7       2                 0        448   \n",
      "\n",
      "   asian_per  black_num  black_per  hispanic_num  hispanic_per  white_num  \\\n",
      "0       14.0        123       29.1           227          53.8          7   \n",
      "1       29.2         89       22.6           181          45.9          9   \n",
      "2        9.7        143       23.9           331          55.4         62   \n",
      "3        9.3        116       31.6           209          56.9          6   \n",
      "4       27.8        189       11.7           229          14.2        725   \n",
      "\n",
      "   white_per  male_num  male_per  female_num  female_per  rr_s  rr_t  rr_p  \\\n",
      "0        1.7     259.0      61.4       163.0        38.6  89.0    70    39   \n",
      "1        2.3     226.0      57.4       168.0        42.6  84.0    95    10   \n",
      "2       10.4     327.0      54.7       271.0        45.3   0.0    98    28   \n",
      "3        1.6     170.0      46.3       197.0        53.7  90.0   100    21   \n",
      "4       44.9     794.0      49.2       819.0        50.8  98.0    68    51   \n",
      "\n",
      "          N_s   N_t    N_p  saf_p_11  com_p_11  eng_p_11  aca_p_11  saf_t_11  \\\n",
      "0  379.000000  26.0  151.0       7.8       7.7       7.4       7.6       6.3   \n",
      "1  385.000000  37.0   46.0       7.9       7.4       7.2       7.3       6.6   \n",
      "2  598.208333  42.0  150.0       8.7       8.2       8.1       8.4       7.3   \n",
      "3  306.000000  29.0   69.0       7.7       7.4       7.2       7.3       6.4   \n",
      "4  923.000000  67.0  736.0       8.5       7.9       7.9       8.4       7.6   \n",
      "\n",
      "   com_t_11  eng_t_11  aca_t_11  saf_s_11  com_s_11  eng_s_11  aca_s_11  \\\n",
      "0       5.3       6.1       6.5  6.000000  5.600000  6.100000  6.700000   \n",
      "1       5.8       6.6       7.3  6.000000  5.700000  6.300000  7.000000   \n",
      "2       8.0       8.0       8.8  6.611667  6.094722  6.620278  7.381389   \n",
      "3       5.3       6.1       6.8  6.400000  5.900000  6.400000  7.000000   \n",
      "4       5.6       5.9       7.3  7.300000  6.400000  7.000000  7.700000   \n",
      "\n",
      "   saf_tot_11  com_tot_11  eng_tot_11  aca_tot_11     dbn  \\\n",
      "0         6.7         6.2         6.6         7.0  01M292   \n",
      "1         6.8         6.3         6.7         7.2  01M448   \n",
      "2         7.9         7.9         7.9         8.4  01M450   \n",
      "3         6.9         6.2         6.6         7.0  01M509   \n",
      "4         7.8         6.7         6.9         7.8  01M539   \n",
      "\n",
      "                                         school_name       boro building_code  \\\n",
      "0      Henry Street School for International Studies  Manhattan          M056   \n",
      "1                University Neighborhood High School  Manhattan          M446   \n",
      "2                         East Side Community School  Manhattan          M060   \n",
      "3                            Marta Valle High School  Manhattan          M025   \n",
      "4  New Explorations into Science, Technology and ...  Manhattan          M022   \n",
      "\n",
      "   phone_number    fax_number grade_span_min  grade_span_max  \\\n",
      "0  212-406-9411  212-406-9417              6              12   \n",
      "1  212-962-4341  212-267-5611              9              12   \n",
      "2  212-460-8467  212-260-9657              6              12   \n",
      "3  212-473-8152  212-475-7588              9              12   \n",
      "4  212-677-5190  212-260-8124              K              12   \n",
      "\n",
      "  expgrade_span_min  expgrade_span_max  \\\n",
      "0                 0               12.0   \n",
      "1                 0               12.0   \n",
      "2                 0               12.0   \n",
      "3                 0               12.0   \n",
      "4                 0               12.0   \n",
      "\n",
      "                                                 bus  \\\n",
      "0        B39, M14A, M14D, M15, M15-SBS, M21, M22, M9   \n",
      "1                      M14A, M14D, M15, M21, M22, M9   \n",
      "2  M101, M102, M103, M14A, M14D, M15, M15-SBS, M2...   \n",
      "3  B39, M103, M14A, M14D, M15, M15-SBS, M21, M22,...   \n",
      "4                  B39, M14A, M14D, M21, M22, M8, M9   \n",
      "\n",
      "                                              subway primary_address_line_1  \\\n",
      "0  B, D to Grand St ; F to East Broadway ; J, M, ...       220 Henry Street   \n",
      "1  F to East Broadway ; J, M, Z to Delancey St-Es...      200 Monroe Street   \n",
      "2                    6 to Astor Place ; L to 1st Ave     420 East 12 Street   \n",
      "3  B, D to Grand St ; F, J, M, Z to Delancey St-E...     145 Stanton Street   \n",
      "4                 F, J, M, Z to Delancey St-Essex St    111 Columbia Street   \n",
      "\n",
      "       city state_code    zip                                       website  \\\n",
      "0  New York         NY  10002  http://schools.nyc.gov/schoolportals/01/M292   \n",
      "1  New York         NY  10002              www.universityneighborhoodhs.com   \n",
      "2  New York         NY  10009                                 www.eschs.org   \n",
      "3  New York         NY  10002                            www.martavalle.org   \n",
      "4  New York         NY  10002                              www.nestmk12.net   \n",
      "\n",
      "   total_students campus_name        school_type  \\\n",
      "0           323.0           0                  0   \n",
      "1           299.0           0                  0   \n",
      "2           649.0           0  Consortium School   \n",
      "3           401.0           0                  0   \n",
      "4          1725.0           0                  0   \n",
      "\n",
      "                                  overview_paragraph  \\\n",
      "0  Henry Street School for International Studies ...   \n",
      "1  University Neighborhood High School (UNHS) is ...   \n",
      "2  We are a small 6-12 secondary school that prep...   \n",
      "3  Marta Valle High School (MVHS) offers a strong...   \n",
      "4  New Explorations into Science, Technology and ...   \n",
      "\n",
      "                                  program_highlights  \\\n",
      "0  Global/International Studies in core subjects,...   \n",
      "1  While attending UNHS, students can earn up to ...   \n",
      "2  Our Advisory System ensures that we can effect...   \n",
      "3  Advanced Regents Diploma, Early Graduation, up...   \n",
      "4  1st level science sequence - 9th grade: Regent...   \n",
      "\n",
      "                                    language_classes  \\\n",
      "0                        Chinese (Mandarin), Spanish   \n",
      "1                                   Chinese, Spanish   \n",
      "2                                                  0   \n",
      "3                                    French, Spanish   \n",
      "4  Chinese (Mandarin), French, Italian, Latin, Sp...   \n",
      "\n",
      "                           advancedplacement_courses  \\\n",
      "0                                         Psychology   \n",
      "1  Calculus AB, Chinese Language and Culture, Eng...   \n",
      "2    Calculus AB, English Literature and Composition   \n",
      "3  English Literature and Composition, Studio Art...   \n",
      "4  Biology, Calculus AB, Calculus BC, Chemistry, ...   \n",
      "\n",
      "                                   online_ap_courses  \\\n",
      "0  Chinese Language and Culture, Spanish Literatu...   \n",
      "1                                                  0   \n",
      "2                                                  0   \n",
      "3                                                  0   \n",
      "4                                                  0   \n",
      "\n",
      "                             online_language_courses  \\\n",
      "0                        Chinese (Mandarin), Spanish   \n",
      "1   Chinese (Cantonese), Chinese (Mandarin), Spanish   \n",
      "2  American Sign Language, Arabic, Chinese (Manda...   \n",
      "3                                            Spanish   \n",
      "4                                                  0   \n",
      "\n",
      "                          extracurricular_activities  \\\n",
      "0  Math through Card Play; Art, Poetry/Spoken Wor...   \n",
      "1  Basketball, Badminton, Handball, Glee, Dance, ...   \n",
      "2  After-School Tutoring, Art Portfolio Classes, ...   \n",
      "3  Model Peer Leadership Program, 'The Vine' Stud...   \n",
      "4  After-school Jazz Band, Annual Coffee House Co...   \n",
      "\n",
      "                                    psal_sports_boys  \\\n",
      "0                                         Basketball   \n",
      "1  Baseball, Basketball, Bowling, Cross Country, ...   \n",
      "2                       Baseball, Basketball, Soccer   \n",
      "3                                  Basketball, Rugby   \n",
      "4                  Basketball, Fencing, Indoor Track   \n",
      "\n",
      "                                   psal_sports_girls psal_sports_coed  \\\n",
      "0                                           Softball           Soccer   \n",
      "1  Basketball, Bowling, Cross Country, Softball, ...                0   \n",
      "2                       Basketball, Soccer, Softball                0   \n",
      "3                                  Rugby, Volleyball            Rugby   \n",
      "4                  Basketball, Fencing, Indoor Track                0   \n",
      "\n",
      "                                       school_sports  \\\n",
      "0  Boxing, Track, CHAMPS, Tennis, Flag Football, ...   \n",
      "1                                                  0   \n",
      "2  Basketball, Bicycling, Fitness, Flag Football,...   \n",
      "3                                  Volleyball, Zumba   \n",
      "4  Badminton, Baseball, Cross-Country, Dance, Out...   \n",
      "\n",
      "                                         partner_cbo  \\\n",
      "0  The Henry Street Settlement; Asia Society; Ame...   \n",
      "1  Grand Street Settlement, Henry Street Settleme...   \n",
      "2  University Settlement, Big Brothers Big Sister...   \n",
      "3  NYCDOE Innovation Zone Lab Site, Grand Street ...   \n",
      "4  7th Precinct Community Affairs, NYCWastele$$, ...   \n",
      "\n",
      "                                    partner_hospital  \\\n",
      "0               Gouverneur Hospital (Turning Points)   \n",
      "1  Gouverneur Hospital, The Door, The Mount Sinai...   \n",
      "2                                                  0   \n",
      "3                               Gouvenuer's Hospital   \n",
      "4                                                  0   \n",
      "\n",
      "                                    partner_highered  \\\n",
      "0                                New York University   \n",
      "1  New York University, CUNY Baruch College, Pars...   \n",
      "2  Columbia Teachers College, New York University...   \n",
      "3  New York University (NYU), Sarah Lawrence Coll...   \n",
      "4  Hunter College, New York University, Cornell U...   \n",
      "\n",
      "                                    partner_cultural  \\\n",
      "0                                       Asia Society   \n",
      "1  Dance Film Association, Dance Makers Film Work...   \n",
      "2  , Internship Program, Loisaida Art Gallery loc...   \n",
      "3  Young Audiences, The National Arts Club, Educa...   \n",
      "4  VH1, Dancing Classrooms, Center for Arts Educa...   \n",
      "\n",
      "                                   partner_nonprofit  \\\n",
      "0                        Heart of America Foundation   \n",
      "1  W!SE, Big Brothers Big Sisters, Peer Health Ex...   \n",
      "2  College Bound Initiative, Center for Collabora...   \n",
      "3  College for Every Student (CFES), Morningside ...   \n",
      "4                                            After 3   \n",
      "\n",
      "                                   partner_corporate partner_financial  \\\n",
      "0                                                  0                 0   \n",
      "1  Deloitte LLP Consulting and Financial Services...                 0   \n",
      "2  Prudential Securities, Moore Capital, Morgan S...                 0   \n",
      "3                                       Estée Lauder   Bank of America   \n",
      "4  Time Warner Cable, Google, IBM, MET Project, S...                 0   \n",
      "\n",
      "                       partner_other  \\\n",
      "0                     United Nations   \n",
      "1                  Movement Research   \n",
      "2  Brooklyn Boulders (Rock Climbing)   \n",
      "3                   CASALEAP, Beacon   \n",
      "4                                  0   \n",
      "\n",
      "                                         addtl_info1  \\\n",
      "0                                                  0   \n",
      "1  Incoming students are expected to attend schoo...   \n",
      "2  Students present and defend their work to comm...   \n",
      "3  Students Dress for Success, Summer Bridge to S...   \n",
      "4  Dress Code Required: Business Casual - shirt/b...   \n",
      "\n",
      "                                         addtl_info2 start_time end_time  \\\n",
      "0                                                  0    8:30 AM  3:30 PM   \n",
      "1  Community Service Requirement, Dress Code Requ...    8:15 AM  3:15 PM   \n",
      "2  Our school requires an Academic Portfolio for ...    8:30 AM  3:30 PM   \n",
      "3  Community Service Requirement, Extended Day Pr...    8:00 AM  3:30 PM   \n",
      "4                                                  0    8:15 AM  4:00 PM   \n",
      "\n",
      "                                         se_services ell_programs  \\\n",
      "0  This school will provide students with disabil...          ESL   \n",
      "1  This school will provide students with disabil...          ESL   \n",
      "2  This school will provide students with disabil...          ESL   \n",
      "3  This school will provide students with disabil...          ESL   \n",
      "4  This school will provide students with disabil...          ESL   \n",
      "\n",
      "  school_accessibility_description  number_programs  \\\n",
      "0          Functionally Accessible                1   \n",
      "1      Not Functionally Accessible                3   \n",
      "2      Not Functionally Accessible                1   \n",
      "3          Functionally Accessible                1   \n",
      "4      Not Functionally Accessible                1   \n",
      "\n",
      "                                     priority01  \\\n",
      "0            Priority to continuing 8th graders   \n",
      "1               Open to New York City residents   \n",
      "2            Priority to continuing 8th graders   \n",
      "3  Priority to District 1 students or residents   \n",
      "4            Priority to continuing 8th graders   \n",
      "\n",
      "                                          priority02  \\\n",
      "0  Then to Manhattan students or residents who at...   \n",
      "1  For M35B only: Open only to students whose hom...   \n",
      "2                    Then to New York City residents   \n",
      "3            Then to Manhattan students or residents   \n",
      "4                    Then to New York City residents   \n",
      "\n",
      "                                          priority03  \\\n",
      "0  Then to New York City residents who attend an ...   \n",
      "1                                                  0   \n",
      "2                                                  0   \n",
      "3                    Then to New York City residents   \n",
      "4                                                  0   \n",
      "\n",
      "                                priority04                       priority05  \\\n",
      "0  Then to Manhattan students or residents  Then to New York City residents   \n",
      "1                                        0                                0   \n",
      "2                                        0                                0   \n",
      "3                                        0                                0   \n",
      "4                                        0                                0   \n",
      "\n",
      "  priority06 priority07  priority08  priority09  priority10  \\\n",
      "0          0          0         0.0         0.0         0.0   \n",
      "1          0          0         0.0         0.0         0.0   \n",
      "2          0          0         0.0         0.0         0.0   \n",
      "3          0          0         0.0         0.0         0.0   \n",
      "4          0          0         0.0         0.0         0.0   \n",
      "\n",
      "                                          Location 1        lat        lon  \n",
      "0  220 Henry Street\\nNew York, NY 10002\\n(40.7137...  40.713764 -73.985260  \n",
      "1  200 Monroe Street\\nNew York, NY 10002\\n(40.712...  40.712332 -73.984797  \n",
      "2  420 East 12 Street\\nNew York, NY 10009\\n(40.72...  40.729783 -73.983041  \n",
      "3  145 Stanton Street\\nNew York, NY 10002\\n(40.72...  40.720569 -73.985673  \n",
      "4  111 Columbia Street\\nNew York, NY 10002\\n(40.7...  40.718725 -73.979426  \n"
     ]
    }
   ],
   "source": [
    "pd.set_option('display.max_columns', None)\n",
    "print(combined.head())"
   ]
  },
  {
   "cell_type": "markdown",
   "metadata": {},
   "source": [
    "Mapping the statistics out on a school district level might be an interesting way to analyze them. Since the first two characters in DBN number specifies the school's district let's extract them"
   ]
  },
  {
   "cell_type": "code",
   "execution_count": 12,
   "metadata": {},
   "outputs": [],
   "source": [
    "def get_first_two_chars(dbn):\n",
    "    return dbn[0:2]\n",
    "\n",
    "combined[\"school_dist\"] = combined[\"DBN\"].apply(get_first_two_chars)"
   ]
  },
  {
   "cell_type": "markdown",
   "metadata": {},
   "source": [
    "**Let's now look at the correlations:**"
   ]
  },
  {
   "cell_type": "code",
   "execution_count": 13,
   "metadata": {},
   "outputs": [
    {
     "name": "stdout",
     "output_type": "stream",
     "text": [
      "SAT Critical Reading Avg. Score    0.986820\n",
      "SAT Math Avg. Score                0.972643\n",
      "SAT Writing Avg. Score             0.987771\n",
      "sat_score                          1.000000\n",
      "AP Test Takers                     0.523140\n",
      "                                     ...   \n",
      "priority08                              NaN\n",
      "priority09                              NaN\n",
      "priority10                              NaN\n",
      "lat                               -0.121029\n",
      "lon                               -0.132222\n",
      "Name: sat_score, Length: 67, dtype: float64\n"
     ]
    }
   ],
   "source": [
    "correlations = combined.corr()\n",
    "correlations = correlations[\"sat_score\"]\n",
    "print(correlations)"
   ]
  },
  {
   "cell_type": "markdown",
   "metadata": {},
   "source": [
    "Remove DBN since it's a unique identifier, not a useful numerical value for correlation."
   ]
  },
  {
   "cell_type": "code",
   "execution_count": 14,
   "metadata": {},
   "outputs": [],
   "source": [
    "survey_fields.remove(\"DBN\")"
   ]
  },
  {
   "cell_type": "markdown",
   "metadata": {},
   "source": [
    "Let's check the correlation between **sat score and survey fields:**"
   ]
  },
  {
   "cell_type": "code",
   "execution_count": 15,
   "metadata": {},
   "outputs": [
    {
     "data": {
      "text/plain": [
       "<matplotlib.axes._subplots.AxesSubplot at 0x20de0997348>"
      ]
     },
     "execution_count": 15,
     "metadata": {},
     "output_type": "execute_result"
    },
    {
     "data": {
      "image/png": "[encoded data removed]",
      "text/plain": [
       "<Figure size 432x288 with 1 Axes>"
      ]
     },
     "metadata": {
      "needs_background": "light"
     },
     "output_type": "display_data"
    }
   ],
   "source": [
    "%matplotlib inline\n",
    "combined.corr()[\"sat_score\"][survey_fields].plot.bar()"
   ]
  },
  {
   "cell_type": "markdown",
   "metadata": {},
   "source": [
    "There are high correlations between N_s, N_t, N_p and sat_score. Since these columns are correlated with total_enrollment, it makes sense that they would be high.\n",
    "\n",
    "It is more interesting that rr_s, the student response rate, or the percentage of students that completed the survey, correlates with sat_score. This might make sense because students who are more likely to fill out surveys may be more likely to also be doing well academically.\n",
    "\n",
    "How students and teachers percieved safety (saf_t_11 and saf_s_11) correlate with sat_score. This make sense, as it's hard to teach or learn in an unsafe environment.\n",
    "\n",
    "The last interesting correlation is the aca_s_11, which indicates how the student perceives academic standards, correlates with sat_score, but this is not true for aca_t_11, how teachers perceive academic standards, or aca_p_11, how parents perceive academic standards."
   ]
  },
  {
   "cell_type": "code",
   "execution_count": 16,
   "metadata": {},
   "outputs": [
    {
     "data": {
      "text/plain": [
       "<matplotlib.axes._subplots.AxesSubplot at 0x20de118e908>"
      ]
     },
     "execution_count": 16,
     "metadata": {},
     "output_type": "execute_result"
    },
    {
     "data": {
      "image/png": "[encoded data removed]",
      "text/plain": [
       "<Figure size 432x288 with 1 Axes>"
      ]
     },
     "metadata": {
      "needs_background": "light"
     },
     "output_type": "display_data"
    }
   ],
   "source": [
    "combined.plot.scatter(\"saf_s_11\", \"sat_score\")"
   ]
  },
  {
   "cell_type": "markdown",
   "metadata": {},
   "source": [
    "There appears to be a correlation between SAT scores and safety, although it isn't that strong. It looks like there are a few schools with extremely high SAT scores and high safety scores. There are a few schools with low safety scores and low SAT scores. No school with a safety score lower than 6.5 has an average SAT score higher than 1500 or so."
   ]
  },
  {
   "cell_type": "code",
   "execution_count": 17,
   "metadata": {},
   "outputs": [
    {
     "name": "stderr",
     "output_type": "stream",
     "text": [
      "C:\\Users\\conq_\\anaconda3\\lib\\site-packages\\ipykernel_launcher.py:13: MatplotlibDeprecationWarning: \n",
      "The dedent function was deprecated in Matplotlib 3.1 and will be removed in 3.3. Use inspect.cleandoc instead.\n",
      "  del sys.path[0]\n",
      "C:\\Users\\conq_\\anaconda3\\lib\\site-packages\\ipykernel_launcher.py:18: MatplotlibDeprecationWarning: \n",
      "The dedent function was deprecated in Matplotlib 3.1 and will be removed in 3.3. Use inspect.cleandoc instead.\n"
     ]
    },
    {
     "data": {
      "image/png": "[encoded data removed]",
      "text/plain": [
       "<Figure size 432x288 with 1 Axes>"
      ]
     },
     "metadata": {},
     "output_type": "display_data"
    }
   ],
   "source": [
    "import matplotlib.pyplot as plt\n",
    "from mpl_toolkits.basemap import Basemap\n",
    "\n",
    "districts = combined.groupby(\"school_dist\").agg(numpy.mean)\n",
    "districts.reset_index(inplace=True)\n",
    "\n",
    "m = Basemap(\n",
    "    projection='merc', \n",
    "    llcrnrlat=40.496044, \n",
    "    urcrnrlat=40.915256, \n",
    "    llcrnrlon=-74.255735, \n",
    "    urcrnrlon=-73.700272,\n",
    "    resolution='h'\n",
    ")\n",
    "\n",
    "m.drawmapboundary(fill_color='#85A6D9')\n",
    "m.drawcoastlines(color='#6D5F47', linewidth=.4)\n",
    "m.drawrivers(color='#6D5F47', linewidth=.4)\n",
    "m.fillcontinents(color='white',lake_color='#85A6D9')\n",
    "\n",
    "longitudes = districts[\"lon\"].tolist()\n",
    "latitudes = districts[\"lat\"].tolist()\n",
    "m.scatter(longitudes, latitudes, s=50, zorder=2, latlon=True, c=districts[\"saf_s_11\"], cmap=\"summer\")\n",
    "plt.show()"
   ]
  },
  {
   "cell_type": "markdown",
   "metadata": {},
   "source": [
    "It looks like Upper Manhattan and parts of Queens and the Bronx tend to have higher safety scores, whereas Brooklyn has low safety scores.\n",
    "\n",
    "**Racial differences in SAT scores**"
   ]
  },
  {
   "cell_type": "code",
   "execution_count": 18,
   "metadata": {},
   "outputs": [
    {
     "data": {
      "text/plain": [
       "<matplotlib.axes._subplots.AxesSubplot at 0x20de0652088>"
      ]
     },
     "execution_count": 18,
     "metadata": {},
     "output_type": "execute_result"
    },
    {
     "data": {
      "image/png": "[encoded data removed]",
      "text/plain": [
       "<Figure size 432x288 with 1 Axes>"
      ]
     },
     "metadata": {
      "needs_background": "light"
     },
     "output_type": "display_data"
    }
   ],
   "source": [
    "race_fields = [\"white_per\", \"asian_per\", \"black_per\", \"hispanic_per\"]\n",
    "combined.corr()[\"sat_score\"][race_fields].plot.bar()"
   ]
  },
  {
   "cell_type": "markdown",
   "metadata": {},
   "source": [
    "It looks like a higher percentage of white or asian students at a school correlates positively with sat score, whereas a higher percentage of black or hispanic students correlates negatively with sat score. This may be due to a lack of funding for schools in certain areas, which are more likely to have a higher percentage of black or hispanic students.\n"
   ]
  },
  {
   "cell_type": "code",
   "execution_count": 19,
   "metadata": {},
   "outputs": [
    {
     "data": {
      "text/plain": [
       "<matplotlib.axes._subplots.AxesSubplot at 0x20de16c70c8>"
      ]
     },
     "execution_count": 19,
     "metadata": {},
     "output_type": "execute_result"
    },
    {
     "data": {
      "image/png": "[encoded data removed]",
      "text/plain": [
       "<Figure size 432x288 with 1 Axes>"
      ]
     },
     "metadata": {
      "needs_background": "light"
     },
     "output_type": "display_data"
    }
   ],
   "source": [
    "combined.plot.scatter(\"hispanic_per\", \"sat_score\")"
   ]
  },
  {
   "cell_type": "code",
   "execution_count": 20,
   "metadata": {},
   "outputs": [
    {
     "name": "stdout",
     "output_type": "stream",
     "text": [
      "44                         MANHATTAN BRIDGES HIGH SCHOOL\n",
      "82      WASHINGTON HEIGHTS EXPEDITIONARY LEARNING SCHOOL\n",
      "89     GREGORIO LUPERON HIGH SCHOOL FOR SCIENCE AND M...\n",
      "125                  ACADEMY FOR LANGUAGE AND TECHNOLOGY\n",
      "141                INTERNATIONAL SCHOOL FOR LIBERAL ARTS\n",
      "176     PAN AMERICAN INTERNATIONAL HIGH SCHOOL AT MONROE\n",
      "253                            MULTICULTURAL HIGH SCHOOL\n",
      "286               PAN AMERICAN INTERNATIONAL HIGH SCHOOL\n",
      "Name: SCHOOL NAME, dtype: object\n"
     ]
    }
   ],
   "source": [
    "print(combined[combined[\"hispanic_per\"] > 95][\"SCHOOL NAME\"])"
   ]
  },
  {
   "cell_type": "markdown",
   "metadata": {},
   "source": [
    "The schools listed above appear to primarily be geared towards recent immigrants to the US. These schools have a lot of students who are learning English, which would explain the lower SAT scores."
   ]
  },
  {
   "cell_type": "code",
   "execution_count": 21,
   "metadata": {},
   "outputs": [
    {
     "name": "stdout",
     "output_type": "stream",
     "text": [
      "37                                STUYVESANT HIGH SCHOOL\n",
      "151                         BRONX HIGH SCHOOL OF SCIENCE\n",
      "187                       BROOKLYN TECHNICAL HIGH SCHOOL\n",
      "327    QUEENS HIGH SCHOOL FOR THE SCIENCES AT YORK CO...\n",
      "356                  STATEN ISLAND TECHNICAL HIGH SCHOOL\n",
      "Name: SCHOOL NAME, dtype: object\n"
     ]
    }
   ],
   "source": [
    "print(combined[(combined[\"hispanic_per\"] < 10) & (combined[\"sat_score\"] > 1800)][\"SCHOOL NAME\"])"
   ]
  },
  {
   "cell_type": "markdown",
   "metadata": {},
   "source": [
    "Many of the schools above appear to be specialized science and technology schools that receive extra funding, and only admit students who pass an entrance exam. This doesn't explain the low hispanic_per, but it does explain why their students tend to do better on the SAT -- they are students from all over New York City who did well on a standardized test.\n",
    "\n",
    "**Gender differences in SAT scores**"
   ]
  },
  {
   "cell_type": "code",
   "execution_count": 22,
   "metadata": {},
   "outputs": [
    {
     "data": {
      "text/plain": [
       "<matplotlib.axes._subplots.AxesSubplot at 0x20de172a348>"
      ]
     },
     "execution_count": 22,
     "metadata": {},
     "output_type": "execute_result"
    },
    {
     "data": {
      "image/png": "[encoded data removed]",
      "text/plain": [
       "<Figure size 432x288 with 1 Axes>"
      ]
     },
     "metadata": {
      "needs_background": "light"
     },
     "output_type": "display_data"
    }
   ],
   "source": [
    "gender_fields = [\"male_per\", \"female_per\"]\n",
    "combined.corr()[\"sat_score\"][gender_fields].plot.bar()"
   ]
  },
  {
   "cell_type": "markdown",
   "metadata": {},
   "source": [
    "Based on the scatterplot, there doesn't seem to be any real correlation between sat_score and female_per. However, there is a cluster of schools with a high percentage of females (60 to 80), and high SAT scores."
   ]
  },
  {
   "cell_type": "code",
   "execution_count": 23,
   "metadata": {},
   "outputs": [
    {
     "name": "stdout",
     "output_type": "stream",
     "text": [
      "5                         BARD HIGH SCHOOL EARLY COLLEGE\n",
      "26                         ELEANOR ROOSEVELT HIGH SCHOOL\n",
      "60                                    BEACON HIGH SCHOOL\n",
      "61     FIORELLO H. LAGUARDIA HIGH SCHOOL OF MUSIC & A...\n",
      "302                          TOWNSEND HARRIS HIGH SCHOOL\n",
      "Name: SCHOOL NAME, dtype: object\n"
     ]
    }
   ],
   "source": [
    "print(combined[(combined[\"female_per\"] > 60) & (combined[\"sat_score\"] > 1700)][\"SCHOOL NAME\"])"
   ]
  },
  {
   "cell_type": "markdown",
   "metadata": {},
   "source": [
    "These schools appears to be very selective liberal arts schools that have high academic standards.\n",
    "\n",
    "**AP Exam Scores vs SAT Scores**"
   ]
  },
  {
   "cell_type": "code",
   "execution_count": 24,
   "metadata": {},
   "outputs": [
    {
     "data": {
      "text/plain": [
       "<matplotlib.axes._subplots.AxesSubplot at 0x20de17d2c48>"
      ]
     },
     "execution_count": 24,
     "metadata": {},
     "output_type": "execute_result"
    },
    {
     "data": {
      "image/png": "[encoded data removed]",
      "text/plain": [
       "<Figure size 432x288 with 1 Axes>"
      ]
     },
     "metadata": {
      "needs_background": "light"
     },
     "output_type": "display_data"
    }
   ],
   "source": [
    "combined[\"ap_per\"] = combined[\"AP Test Takers \"] / combined[\"total_enrollment\"]\n",
    "\n",
    "combined.plot.scatter(x='ap_per', y='sat_score')"
   ]
  },
  {
   "cell_type": "markdown",
   "metadata": {},
   "source": [
    "It looks like there is a relationship between the percentage of students in a school who take the AP exam, and their average SAT scores. It's not an extremely strong correlation, though"
   ]
  }
 ],
 "metadata": {
  "kernelspec": {
   "display_name": "Python 3",
   "language": "python",
   "name": "python3"
  },
  "language_info": {
   "codemirror_mode": {
    "name": "ipython",
    "version": 3
   },
   "file_extension": ".py",
   "mimetype": "text/x-python",
   "name": "python",
   "nbconvert_exporter": "python",
   "pygments_lexer": "ipython3",
   "version": "3.7.6"
  }
 },
 "nbformat": 4,
 "nbformat_minor": 4
}
